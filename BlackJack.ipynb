{
 "cells": [
  {
   "cell_type": "code",
   "execution_count": 1,
   "id": "ab012a2b-0655-476c-abd6-e7d86f979d2e",
   "metadata": {},
   "outputs": [],
   "source": [
    "## BLACKJACK ##"
   ]
  },
  {
   "cell_type": "code",
   "execution_count": 368,
   "id": "eb6620ba-3529-4399-a97b-a05d252c7c99",
   "metadata": {},
   "outputs": [],
   "source": [
    "import random\n",
    "suits = (\"Hearts\", \"Diamonds\", \"Spades\", \"Clubs\")\n",
    "ranks = ('Two', 'Three', 'Four', 'Five', 'Six', 'Seven', 'Eight', 'Nine', 'Ten', 'Jack', 'Queen', 'King', 'Ace')\n",
    "values = {'Two':2, 'Three':3, 'Four':4, 'Five':5, 'Six':6, 'Seven':7, 'Eight':8, \n",
    "            'Nine':9, 'Ten':10, 'Jack':10, 'Queen':10, 'King':10, 'Ace':11}"
   ]
  },
  {
   "cell_type": "code",
   "execution_count": 370,
   "id": "1695ac05-3dc8-43d6-b01d-cb50d46af113",
   "metadata": {},
   "outputs": [],
   "source": [
    "class Card:\n",
    "\n",
    "    def __init__(self,suit,rank):\n",
    "        self.suit = suit\n",
    "        self.rank = rank\n",
    "        self.value = values[rank]\n",
    "        \n",
    "\n",
    "    def __str__(self):\n",
    "        return self.rank + \" of \" + self.suit"
   ]
  },
  {
   "cell_type": "code",
   "execution_count": 372,
   "id": "c9565e99-53a1-4e39-9dfc-6e4a0dafeb48",
   "metadata": {},
   "outputs": [],
   "source": [
    "class Deck:\n",
    "\n",
    "    def __init__(self):\n",
    "        \n",
    "        self.all_cards = []\n",
    "\n",
    "        for suit in suits:\n",
    "            for rank in ranks:\n",
    "                #Create the card object\n",
    "                created_card =  Card(suit,rank)\n",
    "                \n",
    "                self.all_cards.append(created_card)\n",
    "\n",
    "    def shuffle(self):\n",
    "        random.shuffle(self.all_cards)\n",
    "\n",
    "    def deal_one(self):\n",
    "        return self.all_cards.pop()"
   ]
  },
  {
   "cell_type": "code",
   "execution_count": 374,
   "id": "8364d165-6a18-422a-abb0-0b97b61fb095",
   "metadata": {},
   "outputs": [],
   "source": [
    "class Hand():\n",
    "\n",
    "    def __init__(self):\n",
    "        self.cards = [] #Start with an empty list\n",
    "        self.value = 0\n",
    "        self.aces = 0\n",
    "\n",
    "    def add_card(self, card):\n",
    "        self.cards.append(card)\n",
    "        self.value += values[card.rank]\n",
    "        if card.rank == \"Ace\":\n",
    "            self.aces +=1\n",
    "\n",
    "    def adjust_for_ace(self):\n",
    "        while self.value > 21 and self.aces:\n",
    "            self.value -= 10\n",
    "            self.aces -= 1"
   ]
  },
  {
   "cell_type": "code",
   "execution_count": 376,
   "id": "f7c0347e-1112-4cec-8cdf-244cb370c61c",
   "metadata": {},
   "outputs": [],
   "source": [
    "class Chips():\n",
    "\n",
    "    def __init__(self):\n",
    "        self.total = 100\n",
    "        self.bet = 0\n",
    "\n",
    "    def win_bet(self):\n",
    "        self.total += self.bet\n",
    "\n",
    "    def lose_bet(self):\n",
    "        self.total -= self.bet"
   ]
  },
  {
   "cell_type": "code",
   "execution_count": 378,
   "id": "40e0bd2c-7e53-4267-a373-4a33399d7791",
   "metadata": {},
   "outputs": [],
   "source": [
    "def take_bet(chips):\n",
    " \n",
    "    while True:\n",
    "        try: \n",
    "            player_chips.bet = int(input('How many chips do you want to bet? '))\n",
    "        except ValueError:\n",
    "            print (\"Sorry, a bet must be an integer\")\n",
    "        else:\n",
    "            if player_chips.bet > chips.total:\n",
    "                print (\"Sorry, your bet can't exceed\", chips.total)\n",
    "            else:\n",
    "                break"
   ]
  },
  {
   "cell_type": "code",
   "execution_count": 380,
   "id": "21cfa452-59a5-49e6-b53c-27cc90a2205f",
   "metadata": {},
   "outputs": [],
   "source": [
    "def hit(deck, hand):\n",
    "    hand.add_card(deck.deal_one())\n",
    "    hand.adjust_for_ace()\n",
    "    "
   ]
  },
  {
   "cell_type": "code",
   "execution_count": 382,
   "id": "0511ec67-210c-4c37-85b3-5c7478df7a9f",
   "metadata": {},
   "outputs": [],
   "source": [
    "def hit_or_stand(deck,hand):\n",
    "    # to control an upcoming while loop\n",
    "\n",
    "    global playing\n",
    "    \n",
    "    while playing:\n",
    "        x = input(\"Would you like to Hit or Stand? Enter 'h' or 's' \")\n",
    "        \n",
    "        if x[0].lower() == 'h':\n",
    "            hit(deck,hand)  # hit() function defined above\n",
    "\n",
    "        elif x[0].lower() == 's':\n",
    "            print(\"Player stands. Dealer is playing.\")\n",
    "            playing = False\n",
    "\n",
    "        else:\n",
    "            print(\"Sorry, please try again.\")\n",
    "            continue\n",
    "        break"
   ]
  },
  {
   "cell_type": "code",
   "execution_count": 384,
   "id": "ef007901-7264-43e9-8fdc-5a895f437f66",
   "metadata": {},
   "outputs": [],
   "source": [
    "def show_some(player, dealer):\n",
    "\n",
    "    print(\"\\nDealer's Hand:\")\n",
    "    print(\" <card hidden>\")\n",
    "    print('',dealer.cards[1])  \n",
    "    print(\"\\nPlayer's Hand:\", *player.cards, sep='\\n ')\n",
    "\n",
    "def show_all(player, dealer):\n",
    "\n",
    "    print (\"\\nDealer's Hand:\", *dealer.cards, sep = '\\n ')\n",
    "    print (\"Dealer's Hand = \", dealer.value)\n",
    "    print (\"\\nPlayer's Hand:\", *player.cards, sep = '\\n ')\n",
    "    print (\"Player's Hand = \", player.value)"
   ]
  },
  {
   "cell_type": "code",
   "execution_count": 386,
   "id": "2a6dd07b-679c-4997-a2b8-4426e9fc298a",
   "metadata": {},
   "outputs": [],
   "source": [
    "def player_busts(player, dealer, chips):\n",
    "    print (\"Player busts!\")\n",
    "    player_chips.lose_bet()\n",
    "\n",
    "def player_wins(player, dealer, chips):\n",
    "    print (\"Player wins!\")\n",
    "    player_chips.win_bet()\n",
    "\n",
    "def dealer_busts(player, dealer, chips):\n",
    "    print (\"Dealer busts!\")\n",
    "    player_chips.win_bet()\n",
    "\n",
    "def dealer_wins(player, dealer, chips):\n",
    "    print (\"Dealer wins!\")\n",
    "    player_chips.lose_bet()\n",
    "\n",
    "def push(player, dealer):\n",
    "     print(\"Dealer and Player tie! It's a push.\")"
   ]
  },
  {
   "cell_type": "code",
   "execution_count": 392,
   "id": "2b61b6d0-1dae-43e7-b76b-14ad2dbadd43",
   "metadata": {},
   "outputs": [
    {
     "name": "stdout",
     "output_type": "stream",
     "text": [
      "Welcome to BlackJack! Get as close to 21 as you can without going over!\n",
      "    Dealer hits until she reaches 17. Aces count as 1 or 11.\n",
      "    Your total chips are  100\n"
     ]
    },
    {
     "name": "stdin",
     "output_type": "stream",
     "text": [
      "How many chips do you want to bet?  50\n"
     ]
    },
    {
     "name": "stdout",
     "output_type": "stream",
     "text": [
      "\n",
      "Dealer's Hand:\n",
      " <card hidden>\n",
      " Eight of Hearts\n",
      "\n",
      "Player's Hand:\n",
      " Ten of Spades\n",
      " Four of Diamonds\n"
     ]
    },
    {
     "name": "stdin",
     "output_type": "stream",
     "text": [
      "Would you like to Hit or Stand? Enter 'h' or 's'  h\n"
     ]
    },
    {
     "name": "stdout",
     "output_type": "stream",
     "text": [
      "\n",
      "Dealer's Hand:\n",
      " <card hidden>\n",
      " Eight of Hearts\n",
      "\n",
      "Player's Hand:\n",
      " Ten of Spades\n",
      " Four of Diamonds\n",
      " Jack of Hearts\n",
      "Player busts!\n",
      "\n",
      "Player's winnings stand at 50\n"
     ]
    },
    {
     "name": "stdin",
     "output_type": "stream",
     "text": [
      "Would you like to play another hand? Enter 'y' or 'n'  n\n"
     ]
    },
    {
     "name": "stdout",
     "output_type": "stream",
     "text": [
      "Thanks for playing!\n"
     ]
    }
   ],
   "source": [
    "player_chips = Chips()\n",
    "\n",
    "while True:\n",
    "    # Print an opening statement\n",
    "    print('Welcome to BlackJack! Get as close to 21 as you can without going over!\\n\\\n",
    "    Dealer hits until she reaches 17. Aces count as 1 or 11.\\n\\\n",
    "    Your total chips are ', player_chips.total)\n",
    "    \n",
    "    # Create & shuffle the deck, deal two cards to each player\n",
    "    deck = Deck()\n",
    "    deck.shuffle()\n",
    "\n",
    "    player_hand = Hand()\n",
    "    player_hand.add_card(deck.deal_one())\n",
    "    player_hand.add_card(deck.deal_one())\n",
    "\n",
    "    dealer_hand = Hand()\n",
    "    dealer_hand.add_card(deck.deal_one())\n",
    "    dealer_hand.add_card(deck.deal_one())\n",
    "\n",
    "    take_bet(player_chips)\n",
    "\n",
    "    show_some(player_hand, dealer_hand)\n",
    "\n",
    "    playing = True\n",
    "    while playing:\n",
    "        \n",
    "        hit_or_stand(deck, player_hand)\n",
    "        show_some(player_hand, dealer_hand)\n",
    "    \n",
    "        if player_hand.value > 21:\n",
    "            player_busts(player_hand, dealer_hand, player_chips)\n",
    "            break\n",
    "    \n",
    "    if player_hand.value <= 21:\n",
    "    \n",
    "        while dealer_hand.value < 17:\n",
    "            \n",
    "            hit (deck, dealer_hand)\n",
    "        \n",
    "        show_all(player_hand, dealer_hand)\n",
    "    \n",
    "        if dealer_hand.value > 21:\n",
    "            dealer_busts(player_hand,dealer_hand, player_chips)\n",
    "        elif dealer_hand.value > player_hand.value:\n",
    "            dealer_wins(player_hand, dealer_hand, player_chips)\n",
    "        elif dealer_hand.value < player_hand.value:\n",
    "            player_wins(player_hand, dealer_hand, player_chips)\n",
    "        else:\n",
    "            push(player_hand, dealer_hand)\n",
    "    \n",
    "    \n",
    "    \n",
    "    print(\"\\nPlayer's winnings stand at\",player_chips.total)\n",
    "    \n",
    "    # Ask to play again\n",
    "    new_game = input(\"Would you like to play another hand? Enter 'y' or 'n' \")\n",
    "    \n",
    "    if new_game[0].lower()=='y':\n",
    "        playing=True\n",
    "        continue\n",
    "    else:\n",
    "        print(\"Thanks for playing!\")\n",
    "        playing = False\n",
    "        break\n",
    "        \n",
    "    "
   ]
  },
  {
   "cell_type": "code",
   "execution_count": null,
   "id": "d0f4c8bf-7a39-4d76-a690-c5b17024ec7c",
   "metadata": {},
   "outputs": [],
   "source": []
  },
  {
   "cell_type": "code",
   "execution_count": null,
   "id": "72b75191-5b9b-4f7f-a085-b67ad1387a56",
   "metadata": {},
   "outputs": [],
   "source": []
  }
 ],
 "metadata": {
  "kernelspec": {
   "display_name": "Python 3 (ipykernel)",
   "language": "python",
   "name": "python3"
  },
  "language_info": {
   "codemirror_mode": {
    "name": "ipython",
    "version": 3
   },
   "file_extension": ".py",
   "mimetype": "text/x-python",
   "name": "python",
   "nbconvert_exporter": "python",
   "pygments_lexer": "ipython3",
   "version": "3.11.7"
  }
 },
 "nbformat": 4,
 "nbformat_minor": 5
}
